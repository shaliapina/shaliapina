{
 "cells": [
  {
   "cell_type": "code",
   "execution_count": 1,
   "metadata": {},
   "outputs": [],
   "source": [
    "import os\n",
    "import json\n",
    "from tqdm import tqdm_notebook\n",
    "import time\n",
    "import numpy as np\n",
    "import scipy\n",
    "import pandas as pd\n",
    "import matplotlib\n",
    "%matplotlib inline\n",
    "import matplotlib.pyplot as plt\n",
    "import seaborn as sns"
   ]
  },
  {
   "cell_type": "code",
   "execution_count": 2,
   "metadata": {},
   "outputs": [],
   "source": [
    "matplotlib.rcParams['figure.figsize'] = (8, 8)\n",
    "sns.set_style('whitegrid')"
   ]
  },
  {
   "cell_type": "code",
   "execution_count": 3,
   "metadata": {},
   "outputs": [],
   "source": [
    "# Для обработки текстов\n",
    "import pymorphy2"
   ]
  },
  {
   "cell_type": "code",
   "execution_count": 4,
   "metadata": {},
   "outputs": [],
   "source": [
    "# Для работы с нейросетями\n",
    "import torch\n",
    "import torch.nn as nn\n",
    "import torch.optim as optim\n",
    "import torch.nn.functional as F\n",
    "from torch.utils.data import DataLoader"
   ]
  },
  {
   "cell_type": "markdown",
   "metadata": {},
   "source": [
    "Загрузите данные"
   ]
  },
  {
   "cell_type": "markdown",
   "metadata": {},
   "source": [
    "Создайте папку и положите в неё данные (avito_train.csv и avito_category.csv). Путь к папке назвать DIR_PATH"
   ]
  },
  {
   "cell_type": "code",
   "execution_count": 5,
   "metadata": {},
   "outputs": [],
   "source": [
    "DIR_PATH='data/'"
   ]
  },
  {
   "cell_type": "code",
   "execution_count": 6,
   "metadata": {},
   "outputs": [],
   "source": [
    "dat = pd.read_csv(os.path.join(DIR_PATH, 'avito_train.csv'))\n",
    "cat_descr = pd.read_csv(os.path.join(DIR_PATH, 'avito_category.csv'))\n",
    "dat['category_name'] = dat.category_id.map(dict(zip(cat_descr.category_id, cat_descr.name)))"
   ]
  },
  {
   "cell_type": "code",
   "execution_count": 7,
   "metadata": {},
   "outputs": [
    {
     "data": {
      "text/html": [
       "<div>\n",
       "<style scoped>\n",
       "    .dataframe tbody tr th:only-of-type {\n",
       "        vertical-align: middle;\n",
       "    }\n",
       "\n",
       "    .dataframe tbody tr th {\n",
       "        vertical-align: top;\n",
       "    }\n",
       "\n",
       "    .dataframe thead th {\n",
       "        text-align: right;\n",
       "    }\n",
       "</style>\n",
       "<table border=\"1\" class=\"dataframe\">\n",
       "  <thead>\n",
       "    <tr style=\"text-align: right;\">\n",
       "      <th></th>\n",
       "      <th>item_id</th>\n",
       "      <th>title</th>\n",
       "      <th>description</th>\n",
       "      <th>price</th>\n",
       "      <th>category_id</th>\n",
       "      <th>category_name</th>\n",
       "    </tr>\n",
       "  </thead>\n",
       "  <tbody>\n",
       "    <tr>\n",
       "      <th>0</th>\n",
       "      <td>0</td>\n",
       "      <td>Картина</td>\n",
       "      <td>Гобелен. Размеры 139х84см.</td>\n",
       "      <td>1000.0</td>\n",
       "      <td>19</td>\n",
       "      <td>Для дома и дачи|Мебель и интерьер|Предметы инт...</td>\n",
       "    </tr>\n",
       "    <tr>\n",
       "      <th>1</th>\n",
       "      <td>1</td>\n",
       "      <td>Стулья из прессованной кожи</td>\n",
       "      <td>Продам недорого 4 стула из светлой прессованно...</td>\n",
       "      <td>1250.0</td>\n",
       "      <td>22</td>\n",
       "      <td>Для дома и дачи|Мебель и интерьер|Столы и стулья</td>\n",
       "    </tr>\n",
       "    <tr>\n",
       "      <th>2</th>\n",
       "      <td>2</td>\n",
       "      <td>Домашняя мини баня</td>\n",
       "      <td>Мини баня МБ-1(мини сауна), предназначена для ...</td>\n",
       "      <td>13000.0</td>\n",
       "      <td>37</td>\n",
       "      <td>Личные вещи|Красота и здоровье|Приборы и аксес...</td>\n",
       "    </tr>\n",
       "    <tr>\n",
       "      <th>3</th>\n",
       "      <td>3</td>\n",
       "      <td>Эксклюзивная коллекция книг \"Трансаэро\" + подарок</td>\n",
       "      <td>Продам эксклюзивную коллекцию книг, выпущенную...</td>\n",
       "      <td>4000.0</td>\n",
       "      <td>43</td>\n",
       "      <td>Хобби и отдых|Книги и журналы|Книги</td>\n",
       "    </tr>\n",
       "    <tr>\n",
       "      <th>4</th>\n",
       "      <td>4</td>\n",
       "      <td>Ноутбук aser</td>\n",
       "      <td>Продаётся ноутбук ACER e5-511C2TA. Куплен в ко...</td>\n",
       "      <td>19000.0</td>\n",
       "      <td>1</td>\n",
       "      <td>Бытовая электроника|Ноутбуки</td>\n",
       "    </tr>\n",
       "  </tbody>\n",
       "</table>\n",
       "</div>"
      ],
      "text/plain": [
       "   item_id                                              title  \\\n",
       "0        0                                            Картина   \n",
       "1        1                        Стулья из прессованной кожи   \n",
       "2        2                                 Домашняя мини баня   \n",
       "3        3  Эксклюзивная коллекция книг \"Трансаэро\" + подарок   \n",
       "4        4                                       Ноутбук aser   \n",
       "\n",
       "                                         description    price  category_id  \\\n",
       "0                         Гобелен. Размеры 139х84см.   1000.0           19   \n",
       "1  Продам недорого 4 стула из светлой прессованно...   1250.0           22   \n",
       "2  Мини баня МБ-1(мини сауна), предназначена для ...  13000.0           37   \n",
       "3  Продам эксклюзивную коллекцию книг, выпущенную...   4000.0           43   \n",
       "4  Продаётся ноутбук ACER e5-511C2TA. Куплен в ко...  19000.0            1   \n",
       "\n",
       "                                       category_name  \n",
       "0  Для дома и дачи|Мебель и интерьер|Предметы инт...  \n",
       "1   Для дома и дачи|Мебель и интерьер|Столы и стулья  \n",
       "2  Личные вещи|Красота и здоровье|Приборы и аксес...  \n",
       "3                Хобби и отдых|Книги и журналы|Книги  \n",
       "4                       Бытовая электроника|Ноутбуки  "
      ]
     },
     "execution_count": 7,
     "metadata": {},
     "output_type": "execute_result"
    }
   ],
   "source": [
    "dat.head()"
   ]
  },
  {
   "cell_type": "markdown",
   "metadata": {},
   "source": [
    "### Задание 1\n",
    "### Подготовка данных"
   ]
  },
  {
   "cell_type": "markdown",
   "metadata": {},
   "source": [
    "[1.1] (0.5 балла)"
   ]
  },
  {
   "cell_type": "markdown",
   "metadata": {},
   "source": [
    "Разбейте таргет на иерархические классы."
   ]
  },
  {
   "cell_type": "code",
   "execution_count": 8,
   "metadata": {},
   "outputs": [
    {
     "data": {
      "text/plain": [
       "Для дома и дачи        139494\n",
       "Бытовая электроника    131350\n",
       "Хобби и отдых          111374\n",
       "Личные вещи            107299\n",
       "Name: category_name, dtype: int64"
      ]
     },
     "execution_count": 8,
     "metadata": {},
     "output_type": "execute_result"
    }
   ],
   "source": [
    "# Проверяем, что нет каких-то нешаблонных категорий\n",
    "dat.category_name.apply(lambda x: x[:x.find('|')]).value_counts()"
   ]
  },
  {
   "cell_type": "code",
   "execution_count": 9,
   "metadata": {},
   "outputs": [],
   "source": [
    "# Ваш код здесь:\n",
    "dat['category_1'] = dat.category_name.apply(lambda x: int(x[0] == 'Д')) # для дома\n",
    "dat['category_2'] = dat.category_name.apply(lambda x: int(x[0] == 'Л')) # личные вещи\n",
    "dat['category_3'] = dat.category_name.apply(lambda x: int(x[0] == 'Х')) # хобби и отдых\n",
    "dat['category_4'] = dat.category_name.apply(lambda x: int(x[0] == 'Б')) # бытовая электроника"
   ]
  },
  {
   "cell_type": "markdown",
   "metadata": {},
   "source": [
    "Загрузите список стоп-слов https://raw.githubusercontent.com/stopwords-iso/stopwords-ru/master/stopwords-ru.json"
   ]
  },
  {
   "cell_type": "code",
   "execution_count": 10,
   "metadata": {},
   "outputs": [
    {
     "data": {
      "text/plain": [
       "array(['c', 'а', 'алло', 'без', 'белый'], dtype=object)"
      ]
     },
     "execution_count": 10,
     "metadata": {},
     "output_type": "execute_result"
    }
   ],
   "source": [
    "# Ваш код здесь:\n",
    "stop_words = pd.read_json('https://raw.githubusercontent.com/stopwords-iso/stopwords-ru/master/stopwords-ru.json')\n",
    "stop_words = np.ravel(stop_words)\n",
    "stop_words[:5]"
   ]
  },
  {
   "cell_type": "markdown",
   "metadata": {},
   "source": [
    "[1.2] (1 балл)\n",
    "\n",
    "Лемматизируйте категории (таргеты)"
   ]
  },
  {
   "cell_type": "code",
   "execution_count": 11,
   "metadata": {},
   "outputs": [],
   "source": [
    "morph = pymorphy2.MorphAnalyzer()"
   ]
  },
  {
   "cell_type": "code",
   "execution_count": 12,
   "metadata": {},
   "outputs": [],
   "source": [
    "# Ваш код здесь:\n",
    "dat['category_name_processed'] = dat.category_name.apply(lambda x: morph.parse(x)[0].normal_form)"
   ]
  },
  {
   "cell_type": "markdown",
   "metadata": {},
   "source": [
    "[1.3] (2 балла)\n",
    "\n",
    "Лемматизируйте заголовки и описания объявлений"
   ]
  },
  {
   "cell_type": "code",
   "execution_count": 13,
   "metadata": {},
   "outputs": [],
   "source": [
    "# Ваш код здесь:\n",
    "dat['title_processed'] = dat.title.apply(lambda x: morph.parse(x)[0].normal_form)\n",
    "dat['description_processed'] = dat.description.apply(lambda x: morph.parse(x)[0].normal_form)"
   ]
  },
  {
   "cell_type": "markdown",
   "metadata": {},
   "source": [
    "[1.4] (0.5 балла)\n",
    "\n",
    "Разбейте данные на обучение, валидацию и отложенный тест в пропорции 60/30/10. Постройте распределений категорий в каждом из разбиений для того, чтобы убедиться, что распределения совпадают"
   ]
  },
  {
   "cell_type": "code",
   "execution_count": 14,
   "metadata": {},
   "outputs": [],
   "source": [
    "# Ваш код здесь:\n",
    "np.random.seed(10) # Не меняем random seed!\n",
    "tr_indexes, val_indexes, te_indexes = np.split(\n",
    "    np.random.permutation(np.arange(489517)), [int(489517*0.6), int(489517*0.9)]\n",
    ")"
   ]
  },
  {
   "cell_type": "code",
   "execution_count": 15,
   "metadata": {},
   "outputs": [
    {
     "data": {
      "image/png": "[encoded data removed]",
      "text/plain": [
       "<Figure size 576x576 with 1 Axes>"
      ]
     },
     "metadata": {},
     "output_type": "display_data"
    }
   ],
   "source": [
    "# Здесь постройте распределения:\n",
    "factorize, keys = dat.category_name.factorize()\n",
    "\n",
    "for inds in [tr_indexes, val_indexes, te_indexes]:\n",
    "    pd.Series(factorize[inds]).hist(bins=len(keys))"
   ]
  },
  {
   "cell_type": "markdown",
   "metadata": {},
   "source": [
    "#### Видим, что распределения абсолютно идентичны, так что тестирование будет \"честным\"."
   ]
  },
  {
   "cell_type": "markdown",
   "metadata": {},
   "source": [
    "### Задание 2\n",
    "### Бейзлайн"
   ]
  },
  {
   "cell_type": "markdown",
   "metadata": {},
   "source": [
    "[2.1] (5 баллов)\n",
    "\n",
    "Обучите простую модель для того, чтобы в дальнейшем с ней сравниваться. Точность (accuracy) данной бейзлан модели должна быть > 0.6. \n",
    "\n",
    "В качестве такой модели можно взять Tf-Idf преобразования текстов + (logreg/random forest/boosting/...). Можно так же попробовать в качестве признаков взять word2vec вектора слов."
   ]
  },
  {
   "cell_type": "code",
   "execution_count": 16,
   "metadata": {},
   "outputs": [
    {
     "name": "stderr",
     "output_type": "stream",
     "text": [
      "//anaconda3/lib/python3.7/site-packages/sklearn/feature_extraction/text.py:300: UserWarning: Your stop_words may be inconsistent with your preprocessing. Tokenizing the stop words generated tokens ['хотел'] not in stop_words.\n",
      "  'stop_words.' % sorted(inconsistent))\n",
      "//anaconda3/lib/python3.7/site-packages/sklearn/linear_model/logistic.py:432: FutureWarning: Default solver will be changed to 'lbfgs' in 0.22. Specify a solver to silence this warning.\n",
      "  FutureWarning)\n",
      "//anaconda3/lib/python3.7/site-packages/sklearn/linear_model/logistic.py:469: FutureWarning: Default multi_class will be changed to 'auto' in 0.22. Specify the multi_class option to silence this warning.\n",
      "  \"this warning.\", FutureWarning)\n"
     ]
    },
    {
     "data": {
      "text/plain": [
       "Pipeline(memory=None,\n",
       "         steps=[('bag_of_words',\n",
       "                 CountVectorizer(analyzer='word', binary=False,\n",
       "                                 decode_error='strict',\n",
       "                                 dtype=<class 'numpy.int64'>, encoding='utf-8',\n",
       "                                 input='content', lowercase=True, max_df=1.0,\n",
       "                                 max_features=None, min_df=5,\n",
       "                                 ngram_range=(1, 1), preprocessor=None,\n",
       "                                 stop_words=['c', 'а', 'алло', 'без', 'белый',\n",
       "                                             'близко', 'более', 'больше',\n",
       "                                             'большой', 'будем', 'буде...\n",
       "                                 tokenizer=None, vocabulary=None)),\n",
       "                ('tf_idf',\n",
       "                 TfidfTransformer(norm='l2', smooth_idf=True,\n",
       "                                  sublinear_tf=False, use_idf=True)),\n",
       "                ('log_reg',\n",
       "                 LogisticRegression(C=1.0, class_weight=None, dual=False,\n",
       "                                    fit_intercept=True, intercept_scaling=1,\n",
       "                                    l1_ratio=None, max_iter=100,\n",
       "                                    multi_class='warn', n_jobs=None,\n",
       "                                    penalty='l2', random_state=None,\n",
       "                                    solver='warn', tol=0.0001, verbose=0,\n",
       "                                    warm_start=False))],\n",
       "         verbose=False)"
      ]
     },
     "execution_count": 16,
     "metadata": {},
     "output_type": "execute_result"
    }
   ],
   "source": [
    "# Ваш код здесь:\n",
    "from sklearn.pipeline import Pipeline\n",
    "from sklearn.feature_extraction.text import CountVectorizer, TfidfTransformer, TfidfVectorizer\n",
    "from sklearn.linear_model import LogisticRegression\n",
    "from sklearn.metrics import accuracy_score, f1_score\n",
    "\n",
    "X = (dat['title_processed'] + ' ' + dat['description_processed']).values\n",
    "price = dat['price'].values\n",
    "\n",
    "ppl = Pipeline([\n",
    "    ('bag_of_words', CountVectorizer(stop_words=list(stop_words), min_df=5)),\n",
    "    ('tf_idf', TfidfTransformer()),\n",
    "    ('log_reg', LogisticRegression())\n",
    "])\n",
    "\n",
    "ppl.fit(X[tr_indexes], factorize[tr_indexes])"
   ]
  },
  {
   "cell_type": "code",
   "execution_count": 17,
   "metadata": {},
   "outputs": [
    {
     "name": "stderr",
     "output_type": "stream",
     "text": [
      "//anaconda3/lib/python3.7/site-packages/sklearn/linear_model/logistic.py:469: FutureWarning: Default multi_class will be changed to 'auto' in 0.22. Specify the multi_class option to silence this warning.\n",
      "  \"this warning.\", FutureWarning)\n"
     ]
    },
    {
     "data": {
      "text/plain": [
       "LogisticRegression(C=1.0, class_weight=None, dual=False, fit_intercept=True,\n",
       "                   intercept_scaling=1, l1_ratio=None, max_iter=100,\n",
       "                   multi_class='warn', n_jobs=None, penalty='l2',\n",
       "                   random_state=None, solver='warn', tol=0.0001, verbose=0,\n",
       "                   warm_start=False)"
      ]
     },
     "execution_count": 17,
     "metadata": {},
     "output_type": "execute_result"
    }
   ],
   "source": [
    "model = LogisticRegression()\n",
    "X_train_model = np.hstack((ppl.predict_proba(X[tr_indexes]), price[tr_indexes][:, None]))\n",
    "model.fit(X_train_model, factorize[tr_indexes])"
   ]
  },
  {
   "cell_type": "markdown",
   "metadata": {},
   "source": [
    "[2.2] (2 балла)\n",
    "\n",
    "Посчитайте качество вашей бейзлайн модели на отложенном тесте (te_indexe)"
   ]
  },
  {
   "cell_type": "code",
   "execution_count": 18,
   "metadata": {},
   "outputs": [
    {
     "name": "stdout",
     "output_type": "stream",
     "text": [
      "Accuracy: 0.8615786893283216\n",
      "F_measure: 0.8572563430035928\n"
     ]
    }
   ],
   "source": [
    "# Ваш код здесь:\n",
    "inds = te_indexes\n",
    "\n",
    "X_test_model = np.hstack((ppl.predict_proba(X[inds]), price[inds][:, None]))\n",
    "preds = model.predict(X_test_model)\n",
    "print(f'Accuracy: {accuracy_score(factorize[inds], preds)}')\n",
    "print(f'F_measure: {f1_score(factorize[inds], preds, average=\"macro\")}')"
   ]
  },
  {
   "cell_type": "markdown",
   "metadata": {},
   "source": [
    "### Посмотрим также на качество на валидации"
   ]
  },
  {
   "cell_type": "code",
   "execution_count": 19,
   "metadata": {},
   "outputs": [
    {
     "name": "stdout",
     "output_type": "stream",
     "text": [
      "Accuracy: 0.8615505090054816\n",
      "F_measure: 0.8580386197300792\n"
     ]
    }
   ],
   "source": [
    "inds = val_indexes\n",
    "\n",
    "X_val_model = np.hstack((ppl.predict_proba(X[inds]), price[inds][:, None]))\n",
    "preds = model.predict(X_val_model)\n",
    "print(f'Accuracy: {accuracy_score(factorize[inds], preds)}')\n",
    "print(f'F_measure: {f1_score(factorize[inds], preds, average=\"macro\")}')"
   ]
  },
  {
   "cell_type": "markdown",
   "metadata": {},
   "source": [
    "### Задание 3\n",
    "\n",
    "### Нейросетки"
   ]
  },
  {
   "cell_type": "markdown",
   "metadata": {},
   "source": [
    "Настало время для действительно крутых моделей!\n",
    "\n",
    "[3.1] (26 баллов) [Точность на тесте 0.6 - 0 баллов, точность на тесте 0.86 и более - 26 баллов]\n",
    "\n",
    "Обучите нейросетку, которая бы решала данную задачу с точностью > 0.86. Вы неограничены в выборе архитектуры нейросети. Можно начать с Tf-Idf + полносвязная сеть. Экспериментируйте!"
   ]
  },
  {
   "cell_type": "code",
   "execution_count": 17,
   "metadata": {},
   "outputs": [
    {
     "name": "stderr",
     "output_type": "stream",
     "text": [
      "//anaconda3/lib/python3.7/site-packages/sklearn/feature_extraction/text.py:300: UserWarning: Your stop_words may be inconsistent with your preprocessing. Tokenizing the stop words generated tokens ['хотел'] not in stop_words.\n",
      "  'stop_words.' % sorted(inconsistent))\n"
     ]
    }
   ],
   "source": [
    "import time\n",
    "from sklearn.decomposition import TruncatedSVD\n",
    "\n",
    "n_features = 4000\n",
    "\n",
    "tf_idf = TfidfVectorizer(stop_words=list(stop_words), min_df=40)\n",
    "X_train = tf_idf.fit_transform(X[tr_indexes])\n",
    "X_val = tf_idf.transform(X[val_indexes])\n",
    "X_test = tf_idf.transform(X[te_indexes])\n",
    "\n",
    "svd = TruncatedSVD(n_features)\n",
    "X_train = svd.fit_transform(X_train)\n",
    "X_val = svd.transform(X_val)\n",
    "X_test = svd.transform(X_test)"
   ]
  },
  {
   "cell_type": "code",
   "execution_count": 22,
   "metadata": {},
   "outputs": [],
   "source": [
    "n_hidden = int((n_features+1) * len(keys)**(1/2))\n",
    "model = nn.Sequential(\n",
    "    nn.Linear(n_features, n_hidden),\n",
    "    nn.Dropout(0.1),\n",
    "    nn.Linear(n_hidden, len(keys)),\n",
    "    nn.Sigmoid()\n",
    ")\n",
    "\n",
    "opt = optim.Adamax(model.parameters(), lr=0.009)\n",
    "num_epochs = 3\n",
    "batch_size = 1024\n",
    "\n",
    "train_loss = []\n",
    "val_accuracy = []"
   ]
  },
  {
   "cell_type": "code",
   "execution_count": 23,
   "metadata": {},
   "outputs": [],
   "source": [
    "def iterate_minibatches(X, y, batchsize):\n",
    "    indices = np.random.permutation(np.arange(len(X)))\n",
    "    for start in range(0, len(indices), batchsize):\n",
    "        ix = indices[start: start + batchsize]\n",
    "        yield X[ix], y[ix]\n",
    "        \n",
    "def compute_loss(X_batch, y_batch):\n",
    "    X_batch = torch.autograd.Variable(torch.FloatTensor(X_batch))\n",
    "    y_batch = torch.autograd.Variable(torch.LongTensor(y_batch))\n",
    "    logits = model(X_batch)\n",
    "    return nn.functional.cross_entropy(logits, y_batch).mean()"
   ]
  },
  {
   "cell_type": "code",
   "execution_count": 24,
   "metadata": {},
   "outputs": [],
   "source": [
    "y_train, y_val, y_test = factorize[tr_indexes], factorize[val_indexes], factorize[te_indexes]"
   ]
  },
  {
   "cell_type": "code",
   "execution_count": 26,
   "metadata": {},
   "outputs": [
    {
     "name": "stdout",
     "output_type": "stream",
     "text": [
      "Эпоха 1 из 3 заняла 645.187 секунд\n",
      "  Ошибка на трейне: 3.1144517\n",
      "  Точность на валидации: 82.31 %\n",
      "Эпоха 2 из 3 заняла 544.806 секунд\n",
      "  Ошибка на трейне: 3.102087\n",
      "  Точность на валидации: 85.41 %\n",
      "Эпоха 3 из 3 заняла 589.723 секунд\n",
      "  Ошибка на трейне: 3.089121\n",
      "  Точность на валидации: 87.27 %\n"
     ]
    }
   ],
   "source": [
    "for epoch in range(num_epochs):\n",
    "\n",
    "    start_time = time.time()\n",
    "    model.train(True) \n",
    "    for X_batch, y_batch in iterate_minibatches(X_train, y_train, batch_size):\n",
    "        loss = compute_loss(X_batch, y_batch)\n",
    "        loss.backward()\n",
    "        opt.step()\n",
    "        opt.zero_grad()\n",
    "        train_loss.append(loss.data.numpy())\n",
    "        \n",
    "    model.train(False)\n",
    "    for X_batch, y_batch in iterate_minibatches(X_val, y_val, batch_size):\n",
    "        logits = model(torch.autograd.Variable(torch.FloatTensor(X_batch)))\n",
    "        y_pred = logits.max(1)[1].data.numpy()\n",
    "        val_accuracy.append(np.mean(y_batch == y_pred))\n",
    "\n",
    "    \n",
    "    print(\"Эпоха {} из {} заняла {:.3f} секунд\".format(\n",
    "        epoch + 1, num_epochs, time.time() - start_time))\n",
    "    print(\"  Ошибка на трейне: {:.6f}\".format(\n",
    "        np.mean(train_loss[-len(X_train) // batch_size :])))\n",
    "    print(\"  Точность на валидации: {:.2f} %\".format(\n",
    "        np.mean(val_accuracy[-len(X_val) // batch_size :]) * 100))"
   ]
  },
  {
   "cell_type": "markdown",
   "metadata": {},
   "source": [
    "### Оцениваем качество на тесте"
   ]
  },
  {
   "cell_type": "code",
   "execution_count": 52,
   "metadata": {},
   "outputs": [
    {
     "name": "stdout",
     "output_type": "stream",
     "text": [
      "Accuracy: 0.883722830527864\n",
      "F_measure: 0.8814360087807735\n"
     ]
    }
   ],
   "source": [
    "preds = np.argmax(model(torch.autograd.Variable(torch.FloatTensor(X_test))), axis=1)\n",
    "print(f'Accuracy: {accuracy_score(factorize[inds], preds)}')\n",
    "print(f'F_measure: {f1_score(factorize[inds], preds, average=\"macro\")}')"
   ]
  },
  {
   "cell_type": "markdown",
   "metadata": {},
   "source": [
    "### И это при том, что мы никак не использовали в нейронке данные о цене!"
   ]
  },
  {
   "cell_type": "code",
   "execution_count": null,
   "metadata": {},
   "outputs": [],
   "source": []
  }
 ],
 "metadata": {
  "kernelspec": {
   "display_name": "Python 3",
   "language": "python",
   "name": "python3"
  },
  "language_info": {
   "codemirror_mode": {
    "name": "ipython",
    "version": 3
   },
   "file_extension": ".py",
   "mimetype": "text/x-python",
   "name": "python",
   "nbconvert_exporter": "python",
   "pygments_lexer": "ipython3",
   "version": "3.7.3"
  }
 },
 "nbformat": 4,
 "nbformat_minor": 2
}
